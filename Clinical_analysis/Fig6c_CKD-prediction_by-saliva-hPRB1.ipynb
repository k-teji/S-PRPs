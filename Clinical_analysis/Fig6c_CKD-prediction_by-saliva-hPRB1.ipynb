{
 "cells": [
  {
   "cell_type": "code",
   "execution_count": null,
   "metadata": {},
   "outputs": [],
   "source": [
    "## import modules\n",
    "import pandas as pd\n",
    "import numpy as np\n",
    "import datetime\n",
    "import scipy as sp\n",
    "from scipy import stats\n",
    "import statsmodels.formula.api as smf\n",
    "import statsmodels.api as sm\n",
    "from sklearn.model_selection import train_test_split, GridSearchCV, StratifiedKFold\n",
    "import os\n",
    "from sklearn.metrics import roc_auc_score\n",
    "import math"
   ]
  },
  {
   "cell_type": "code",
   "execution_count": null,
   "metadata": {},
   "outputs": [],
   "source": [
    "## import data \n",
    "all_data = pd.read_csv('input_quantile-analysis.csv')\n",
    "all_data"
   ]
  },
  {
   "cell_type": "code",
   "execution_count": null,
   "metadata": {},
   "outputs": [],
   "source": [
    "## Extract features for use\n",
    "feature_data = all_data.loc[:, ['Sample_ID', 'CKD', 'q_label', 'Age', 'Sex']]\n",
    "feature_data = feature_data.set_index('Sample_ID')\n",
    "feature_data"
   ]
  },
  {
   "cell_type": "code",
   "execution_count": null,
   "metadata": {},
   "outputs": [],
   "source": [
    "## Generate dummy variables in quantile label\n",
    "feature_data = pd.get_dummies(feature_data, columns=['q_label'], drop_first = True)"
   ]
  },
  {
   "cell_type": "code",
   "execution_count": null,
   "metadata": {},
   "outputs": [],
   "source": [
    "## Set analysis features sets\n",
    "basic_feature_set = ['CKD', 'q_label_2', 'q_label_3', 'q_label_4']\n",
    "additional_feature = [[], ['Age'], ['Sex'], ['Age', 'Sex']]"
   ]
  },
  {
   "cell_type": "code",
   "execution_count": null,
   "metadata": {},
   "outputs": [],
   "source": [
    "## additional feature loop\n",
    "\n",
    "cumulative_result_df = None\n",
    "\n",
    "for a_fea in range(len(additional_feature)):\n",
    "    \n",
    "    ## data selection for input\n",
    "    cur_analysis_feature = basic_feature_set + additional_feature[a_fea]\n",
    "    cur_input_data = feature_data.loc[:, cur_analysis_feature]\n",
    "    \n",
    "    ## logistic modeling\n",
    "    mod_glm = smf.glm(formula = \" + \".join(cur_analysis_feature).replace('CKD + ', 'CKD ~ '),\n",
    "                    data = cur_input_data,\n",
    "                    family = sm.families.Binomial()).fit()\n",
    "    \n",
    "    ## extract the result\n",
    "    if a_fea == 0:\n",
    "        analysis_label = 'Unadjusted'\n",
    "    else:\n",
    "        analysis_label = \"\".join(['Adjusted by ', \" and \".join(additional_feature[a_fea])])\n",
    "    \n",
    "    \n",
    "    cur_result_df = pd.DataFrame(data = [analysis_label, \n",
    "                                        np.exp(mod_glm.params[['q_label_2']].values[0]), np.exp(mod_glm.params[['q_label_3']].values[0]), np.exp(mod_glm.params[['q_label_4']].values[0]),    \n",
    "                                        mod_glm.pvalues[['q_label_2']].values[0],mod_glm.pvalues[['q_label_3']].values[0], mod_glm.pvalues[['q_label_4']].values[0],\n",
    "                                        np.exp(mod_glm.conf_int().iloc[1,0]), np.exp(mod_glm.conf_int().iloc[1,1]),\n",
    "                                        np.exp(mod_glm.conf_int().iloc[2,0]), np.exp(mod_glm.conf_int().iloc[2,1]),\n",
    "                                        np.exp(mod_glm.conf_int().iloc[3,0]), np.exp(mod_glm.conf_int().iloc[3,1])],\n",
    "                                index = ['Analysis_label', 'Q2_coeff', 'Q3_coeff', 'Q4_coeff',\n",
    "                                        'Q2_pvalue', 'Q3_pvalue', 'Q4_pvalue', 'Q2_95percCI-low', 'Q2_95percCI-high', 'Q3_95percCI-low', 'Q3_95percCI-high',\n",
    "                                        'Q4_95percCI-low', 'Q4_95percCI-high'])\n",
    "    \n",
    "    if cumulative_result_df is None:\n",
    "        cumulative_result_df = cur_result_df\n",
    "    else:\n",
    "        cumulative_result_df = pd.concat([cumulative_result_df, cur_result_df], axis = 1)"
   ]
  },
  {
   "cell_type": "code",
   "execution_count": null,
   "metadata": {},
   "outputs": [],
   "source": [
    "cumulative_result_df.to_csv('results/results_q-analysis.csv', index=True)"
   ]
  }
 ],
 "metadata": {
  "kernelspec": {
   "display_name": ".venv",
   "language": "python",
   "name": ".venv"
  },
  "language_info": {
   "codemirror_mode": {
    "name": "ipython",
    "version": 3
   },
   "file_extension": ".py",
   "mimetype": "text/x-python",
   "name": "python",
   "nbconvert_exporter": "python",
   "pygments_lexer": "ipython3",
   "version": "3.9.1"
  },
  "orig_nbformat": 4,
  "vscode": {
   "interpreter": {
    "hash": "1da111fef55ffcdcfd9a33646376d72566dd35a00ef0a52b425be65088356195"
   }
  }
 },
 "nbformat": 4,
 "nbformat_minor": 2
}
