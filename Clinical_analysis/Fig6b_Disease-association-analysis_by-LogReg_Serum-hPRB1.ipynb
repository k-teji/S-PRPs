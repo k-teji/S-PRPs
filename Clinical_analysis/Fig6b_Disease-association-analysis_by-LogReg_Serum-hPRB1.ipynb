{
 "cells": [
  {
   "cell_type": "code",
   "execution_count": null,
   "metadata": {},
   "outputs": [],
   "source": [
    "## import modules\n",
    "import pandas as pd\n",
    "import numpy as np\n",
    "import datetime\n",
    "import scipy as sp\n",
    "from scipy import stats\n",
    "import statsmodels.formula.api as smf\n",
    "import statsmodels.api as sm\n",
    "from sklearn.model_selection import train_test_split, GridSearchCV, StratifiedKFold\n",
    "import os\n",
    "from sklearn.metrics import roc_auc_score\n",
    "import math"
   ]
  },
  {
   "cell_type": "code",
   "execution_count": null,
   "metadata": {},
   "outputs": [],
   "source": [
    "## import data \n",
    "all_data = pd.read_csv('data/hPRB1-conc-data_1-1034_serum-and-saliva.csv')\n",
    "all_data"
   ]
  },
  {
   "cell_type": "code",
   "execution_count": null,
   "metadata": {},
   "outputs": [],
   "source": [
    "## Extract features for use\n",
    "feature_data = all_data.loc[:, ['Sample_ID', 'Serum_hPRB1-normalised']]\n",
    "feature_data = feature_data.set_index('Sample_ID')\n",
    "feature_data"
   ]
  },
  {
   "cell_type": "code",
   "execution_count": null,
   "metadata": {},
   "outputs": [],
   "source": [
    "## Rename data column-name\n",
    "feature_data = feature_data.rename(columns={\"Serum_hPRB1-normalised\":\"Serum_hPRB1_normalised\"})\n",
    "feature_data"
   ]
  },
  {
   "cell_type": "code",
   "execution_count": null,
   "metadata": {},
   "outputs": [],
   "source": [
    "## Scale values by 1e-6\n",
    "feature_data['Serum_hPRB1_normalised_change_unit'] = feature_data['Serum_hPRB1_normalised']/1e-6"
   ]
  },
  {
   "cell_type": "code",
   "execution_count": null,
   "metadata": {},
   "outputs": [],
   "source": [
    "# import tbp list\n",
    "tbp_dfp_list = pd.read_csv('data/Disease_analysing-list.csv',encoding='shift-jis')\n",
    "tbp_dfp_list"
   ]
  },
  {
   "cell_type": "code",
   "execution_count": null,
   "metadata": {},
   "outputs": [],
   "source": [
    "## set features list and error list\n",
    "feature_list = ['Serum_hPRB1_normalised_change_unit']\n",
    "err_list = []\n",
    "\n",
    "coeff_sum = None\n",
    "\n",
    "# Loop of the disease to be predicted\n",
    "for tbp_t in range(len(tbp_dfp_list)):\n",
    "    cur_dis_type = tbp_dfp_list.disease_class[tbp_t]\n",
    "    cur_dis_name = tbp_dfp_list.disease_name[tbp_t]\n",
    "    \n",
    "    print(tbp_t, ':', cur_dis_type, '__', cur_dis_name, ' --- ', datetime.datetime.today())\n",
    "    \n",
    "    cur_folder_data_fp = ''.join(['data/Disease_binary-data/',\n",
    "                                tbp_dfp_list.label[tbp_t]])\n",
    "    \n",
    "    cur_folder_data_fp = cur_folder_data_fp.replace('Single', 'single')\n",
    "    \n",
    "    cur_tbp_data = pd.read_csv(cur_folder_data_fp, \n",
    "                                index_col='Sample_ID',encoding='Shift-JIS')\n",
    "    \n",
    "    cur_disease = cur_tbp_data.columns[0]\n",
    "    \n",
    "    ## data merge\n",
    "    merge_data = pd.concat([cur_tbp_data, feature_data], axis=1)\n",
    "    \n",
    "    #for fea in [feature_list[0]]:\n",
    "    for fea in feature_list:\n",
    "        print(fea, '---', datetime.datetime.today())\n",
    "\n",
    "        analyse_data = merge_data.loc[:, [cur_disease, fea]].dropna(how='any',axis=0)\n",
    "        analyse_data.columns.values[0] = 'proxy'\n",
    "        \n",
    "        ## logistic modeling\n",
    "        mod_glm = smf.glm(formula = \"\".join([\"proxy ~ \", fea]),\n",
    "                            data = analyse_data,\n",
    "                            family = sm.families.Binomial()).fit()\n",
    "            \n",
    "        y_pred = mod_glm.predict(analyse_data.loc[:,[fea]])\n",
    "        \n",
    "        coeff_df = pd.DataFrame(data=[cur_dis_type, cur_dis_name, np.exp(mod_glm.params[1]), mod_glm.pvalues[1],\n",
    "                                    -1*math.log10(mod_glm.pvalues[1]),\n",
    "                                    roc_auc_score(y_true=analyse_data.loc[:,['proxy']], y_score=mod_glm.predict(analyse_data.loc[:,[fea]]))],\n",
    "                                index =  [\"Analysis_type\", \"Disease_name\", \"OddsRatio_1unit=1e-6\", \"pvalue\", \"-log10pvalue\", \"AUC\"])\n",
    "        coeff_df = coeff_df.T\n",
    "        \n",
    "        if coeff_sum is None:\n",
    "            coeff_sum = coeff_df\n",
    "        else:\n",
    "            coeff_sum = pd.concat([coeff_sum, coeff_df], axis = 0)"
   ]
  },
  {
   "cell_type": "code",
   "execution_count": null,
   "metadata": {},
   "outputs": [],
   "source": [
    "coeff_sum.to_csv('results/Disease-association-with-serum-hPRB1_odds-results.csv', encoding='shift-jis', index=False)"
   ]
  }
 ],
 "metadata": {
  "kernelspec": {
   "display_name": ".venv",
   "language": "python",
   "name": "python3"
  },
  "language_info": {
   "codemirror_mode": {
    "name": "ipython",
    "version": 3
   },
   "file_extension": ".py",
   "mimetype": "text/x-python",
   "name": "python",
   "nbconvert_exporter": "python",
   "pygments_lexer": "ipython3",
   "version": "3.9.1"
  },
  "orig_nbformat": 4,
  "vscode": {
   "interpreter": {
    "hash": "8cfd2a74008d7bd04b54778fc387d84beadb13d342fc612be7d330217f576bdf"
   }
  }
 },
 "nbformat": 4,
 "nbformat_minor": 2
}
